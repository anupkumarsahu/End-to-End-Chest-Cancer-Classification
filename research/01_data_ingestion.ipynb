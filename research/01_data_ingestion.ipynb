{
 "cells": [
  {
   "cell_type": "code",
   "execution_count": 9,
   "metadata": {},
   "outputs": [],
   "source": [
    "import os\n",
    "import sys\n",
    "from zipfile import ZipFile"
   ]
  },
  {
   "cell_type": "code",
   "execution_count": null,
   "metadata": {},
   "outputs": [],
   "source": [
    "from cnnClassifier.entity.artifacts_entity import DataIngestionArtifacts\n",
    "\n",
    "from cnnClassifier.entity.config_entity import DataIngestionConfig\n",
    "from cnnClassifier.config.s3_operations import S3Operation\n",
    "from cnnClassifier.exception import CNNException\n",
    "from cnnClassifier.logger import logger"
   ]
  },
  {
   "cell_type": "code",
   "execution_count": 2,
   "metadata": {},
   "outputs": [
    {
     "data": {
      "text/plain": [
       "'c:\\\\Anup\\\\Python\\\\GitHub\\\\End-to-End-Chest-Cancer-Classification\\\\research'"
      ]
     },
     "execution_count": 2,
     "metadata": {},
     "output_type": "execute_result"
    }
   ],
   "source": [
    "%pwd"
   ]
  },
  {
   "cell_type": "code",
   "execution_count": 5,
   "metadata": {},
   "outputs": [],
   "source": [
    "os.chdir(\"../\")"
   ]
  },
  {
   "cell_type": "code",
   "execution_count": 6,
   "metadata": {},
   "outputs": [
    {
     "data": {
      "text/plain": [
       "'c:\\\\Anup\\\\Python\\\\GitHub\\\\End-to-End-Chest-Cancer-Classification'"
      ]
     },
     "execution_count": 6,
     "metadata": {},
     "output_type": "execute_result"
    }
   ],
   "source": [
    "%pwd"
   ]
  },
  {
   "cell_type": "code",
   "execution_count": 7,
   "metadata": {},
   "outputs": [
    {
     "name": "stdout",
     "output_type": "stream",
     "text": [
      "[2023-12-19 10:41:51,692: INFO: train_pipeline: Enter the run_pipeline method of TrainPipeline class]\n",
      "[2023-12-19 10:41:51,693: INFO: train_pipeline: Entered the start_data_ingestion method of TrainPipeline class]\n",
      "[2023-12-19 10:41:51,694: INFO: train_pipeline: Getting the data from S3 bucket]\n",
      "[2023-12-19 10:41:51,695: INFO: data_ingestion: Entered the initiate_data_ingestion method of Data ingestion class]\n",
      "[2023-12-19 10:41:51,695: INFO: data_ingestion: Entered the get_data_from_s3 method of Data ingestion class]\n",
      "[2023-12-19 10:41:51,698: INFO: s3_operations: Entered the get_bucket method of S3Operations class]\n",
      "[2023-12-19 10:41:51,702: INFO: s3_operations: Exited the get_bucket method of S3Operations class]\n",
      "[2023-12-19 10:42:09,633: INFO: data_ingestion: Exited the get_data_from_s3 method of Data ingestion class]\n",
      "[2023-12-19 10:42:09,635: INFO: data_ingestion: Fetched the data from S3 bucket]\n",
      "[2023-12-19 10:42:09,635: INFO: data_ingestion: Entered the unzip_and_clean method of Data ingestion class]\n",
      "[2023-12-19 10:42:11,149: INFO: data_ingestion: Exited the unzip_and_clean method of Data ingestion class]\n",
      "[2023-12-19 10:42:11,152: INFO: data_ingestion: Unzipped file and splited into adenocarcinoma and normal]\n",
      "[2023-12-19 10:42:11,153: INFO: data_ingestion: Exited the initiate_data_ingestion method of Data ingestion class]\n",
      "[2023-12-19 10:42:11,154: INFO: data_ingestion: Data ingestion artifact: DataIngestionArtifacts(adenocarcinoma_file_path='C:\\\\Anup\\\\Python\\\\GitHub\\\\End-to-End-Chest-Cancer-Classification\\\\artifacts\\\\12_19_2023_10_41_51\\\\DataIngestionArtifacts\\\\Chest-CT-Scan-data\\\\adenocarcinoma', normal_file_path='C:\\\\Anup\\\\Python\\\\GitHub\\\\End-to-End-Chest-Cancer-Classification\\\\artifacts\\\\12_19_2023_10_41_51\\\\DataIngestionArtifacts\\\\Chest-CT-Scan-data\\\\normal')]\n",
      "[2023-12-19 10:42:11,154: INFO: train_pipeline: Got the adenocarcinoma and normal from s3]\n",
      "[2023-12-19 10:42:11,155: INFO: train_pipeline: Exited the start_data_ingestion method of TrainPipeline class]\n",
      "[2023-12-19 10:42:11,156: INFO: train_pipeline: Exited the run_pipeline method of TrainPipeline class]\n"
     ]
    }
   ],
   "source": [
    "from cnnClassifier.pipeline.train_pipeline import TrainPipeline\n",
    "\n",
    "train_pipeline = TrainPipeline()\n",
    "train_pipeline.run_pipeline()"
   ]
  },
  {
   "cell_type": "code",
   "execution_count": null,
   "metadata": {},
   "outputs": [],
   "source": []
  }
 ],
 "metadata": {
  "kernelspec": {
   "display_name": "cancer",
   "language": "python",
   "name": "python3"
  },
  "language_info": {
   "codemirror_mode": {
    "name": "ipython",
    "version": 3
   },
   "file_extension": ".py",
   "mimetype": "text/x-python",
   "name": "python",
   "nbconvert_exporter": "python",
   "pygments_lexer": "ipython3",
   "version": "3.8.18"
  }
 },
 "nbformat": 4,
 "nbformat_minor": 2
}
