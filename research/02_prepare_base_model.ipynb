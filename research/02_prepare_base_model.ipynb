{
 "cells": [
  {
   "cell_type": "code",
   "execution_count": 1,
   "metadata": {},
   "outputs": [],
   "source": [
    "import os"
   ]
  },
  {
   "cell_type": "code",
   "execution_count": 2,
   "metadata": {},
   "outputs": [
    {
     "data": {
      "text/plain": [
       "'c:\\\\Anup\\\\Python\\\\GitHub\\\\End-to-End-Chest-Cancer-Classification\\\\research'"
      ]
     },
     "execution_count": 2,
     "metadata": {},
     "output_type": "execute_result"
    }
   ],
   "source": [
    "%pwd"
   ]
  },
  {
   "cell_type": "code",
   "execution_count": 3,
   "metadata": {},
   "outputs": [],
   "source": [
    "os.chdir(\"../\")"
   ]
  },
  {
   "cell_type": "code",
   "execution_count": 4,
   "metadata": {},
   "outputs": [
    {
     "data": {
      "text/plain": [
       "'c:\\\\Anup\\\\Python\\\\GitHub\\\\End-to-End-Chest-Cancer-Classification'"
      ]
     },
     "execution_count": 4,
     "metadata": {},
     "output_type": "execute_result"
    }
   ],
   "source": [
    "%pwd"
   ]
  },
  {
   "cell_type": "code",
   "execution_count": 5,
   "metadata": {},
   "outputs": [],
   "source": [
    "from dataclasses import dataclass\n",
    "from from_root import from_root\n",
    "\n",
    "from cnnClassifier.config.s3_operations import S3Operation\n",
    "from cnnClassifier.entity.artifacts_entity import DataIngestionArtifacts\n",
    "from cnnClassifier.constants import *\n",
    "from cnnClassifier.entity.config_entity import DataIngestionConfig\n",
    "from cnnClassifier.config.s3_operations import S3Operation\n",
    "from cnnClassifier.exception import CNNException\n",
    "from cnnClassifier.logger import logger"
   ]
  },
  {
   "cell_type": "code",
   "execution_count": 6,
   "metadata": {},
   "outputs": [],
   "source": [
    "@dataclass\n",
    "class PrepareBaseModelConfig:\n",
    "    def __init__(self):\n",
    "        self.TRAINED_MODEL_DIR: str = os.path.join(\n",
    "            from_root(), ARTIFACTS_DIR, TRAINED_MODEL_DIR\n",
    "        )\n",
    "        self.TRAINED_MODEL_PATH = os.path.join(\n",
    "            self.TRAINED_MODEL_DIR, TRAINED_MODEL_NAME\n",
    "        )\n",
    "        self.TRAINED_UPDATED_MODEL_PATH = os.path.join(\n",
    "            self.TRAINED_MODEL_DIR, TRAINED_UPDATED_MODEL_DIR\n",
    "        )\n",
    "        self.IMAGE_SIZE: list = TRAINED_IMAGE_SIZE\n",
    "        self.LEARNING_RATE: float = TRAINED_LEARNING_RATE\n",
    "        self.INCLUDE_TOP: bool = TRAINED_INCLUDE_TOP\n",
    "        self.WEIGHTS: str = TRAINED_WEIGHTS\n",
    "        self.CLASSES: int = TRAINED_CLASSES\n",
    "        self.BATCH_SIZE: int = TRAINED_BATCH_SIZE\n",
    "        self.SHUFFLE: bool = TRAINED_SHUFFLE\n",
    "        self.NUM_WORKERS = TRAINED_NUM_WORKERS\n",
    "        self.EPOCH: int = EPOCH"
   ]
  },
  {
   "cell_type": "code",
   "execution_count": null,
   "metadata": {},
   "outputs": [],
   "source": []
  }
 ],
 "metadata": {
  "kernelspec": {
   "display_name": "cancer",
   "language": "python",
   "name": "python3"
  },
  "language_info": {
   "codemirror_mode": {
    "name": "ipython",
    "version": 3
   },
   "file_extension": ".py",
   "mimetype": "text/x-python",
   "name": "python",
   "nbconvert_exporter": "python",
   "pygments_lexer": "ipython3",
   "version": "3.8.18"
  }
 },
 "nbformat": 4,
 "nbformat_minor": 2
}
